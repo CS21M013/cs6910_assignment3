{
  "nbformat": 4,
  "nbformat_minor": 0,
  "metadata": {
    "colab": {
      "name": "Generation_gpt2.ipynb",
      "provenance": []
    },
    "kernelspec": {
      "name": "python3",
      "display_name": "Python 3"
    },
    "language_info": {
      "name": "python"
    },
    "accelerator": "GPU"
  },
  "cells": [
    {
      "cell_type": "markdown",
      "source": [
        "# This notebook is for generating song-lyrics from our fine-tuned model.\n"
      ],
      "metadata": {
        "id": "6K3q9qzGkL4v"
      }
    },
    {
      "cell_type": "markdown",
      "source": [
        "## Please download the mymodel2 folder from the link below and save it in your drive to continue. \n",
        "\n",
        "The fine-tuned model can't be cloned from the GitHub due to its size.\n",
        "Link: https://drive.google.com/drive/folders/1KsmwFtrWH-lmXAe3sQCMnWYRYNmmRF28?usp=sharing"
      ],
      "metadata": {
        "id": "jSpk1wWglB5o"
      }
    },
    {
      "cell_type": "markdown",
      "source": [
        "### Cloning the github repository containing *transformers*"
      ],
      "metadata": {
        "id": "IR1iRCEPkoNe"
      }
    },
    {
      "cell_type": "code",
      "execution_count": 28,
      "metadata": {
        "colab": {
          "base_uri": "https://localhost:8080/"
        },
        "id": "HtZm9eHql_Xi",
        "outputId": "7f9f0d72-159c-4584-f0c8-6379ada4b4b0"
      },
      "outputs": [
        {
          "output_type": "stream",
          "name": "stdout",
          "text": [
            "fatal: destination path 'transformers' already exists and is not an empty directory.\n"
          ]
        }
      ],
      "source": [
        "\n",
        "!git clone https://github.com/anur98/transformers"
      ]
    },
    {
      "cell_type": "code",
      "source": [
        "#Checking if the colned repo is in the local\n",
        "!ls"
      ],
      "metadata": {
        "colab": {
          "base_uri": "https://localhost:8080/"
        },
        "id": "2weVGlUwm6lT",
        "outputId": "fc9b5584-8233-4792-aee8-a058cf92d83d"
      },
      "execution_count": 29,
      "outputs": [
        {
          "output_type": "stream",
          "name": "stdout",
          "text": [
            "drive  sample_data  transformers\n"
          ]
        }
      ]
    },
    {
      "cell_type": "code",
      "source": [
        "!nvidia-smi"
      ],
      "metadata": {
        "colab": {
          "base_uri": "https://localhost:8080/"
        },
        "id": "u2iIUBxPm-LI",
        "outputId": "2e46cedc-8c34-4f1d-871a-07f1ea80d274"
      },
      "execution_count": 30,
      "outputs": [
        {
          "output_type": "stream",
          "name": "stdout",
          "text": [
            "Sun May  8 12:19:54 2022       \n",
            "+-----------------------------------------------------------------------------+\n",
            "| NVIDIA-SMI 460.32.03    Driver Version: 460.32.03    CUDA Version: 11.2     |\n",
            "|-------------------------------+----------------------+----------------------+\n",
            "| GPU  Name        Persistence-M| Bus-Id        Disp.A | Volatile Uncorr. ECC |\n",
            "| Fan  Temp  Perf  Pwr:Usage/Cap|         Memory-Usage | GPU-Util  Compute M. |\n",
            "|                               |                      |               MIG M. |\n",
            "|===============================+======================+======================|\n",
            "|   0  Tesla K80           Off  | 00000000:00:04.0 Off |                    0 |\n",
            "| N/A   47C    P0    62W / 149W |   2680MiB / 11441MiB |      0%      Default |\n",
            "|                               |                      |                  N/A |\n",
            "+-------------------------------+----------------------+----------------------+\n",
            "                                                                               \n",
            "+-----------------------------------------------------------------------------+\n",
            "| Processes:                                                                  |\n",
            "|  GPU   GI   CI        PID   Type   Process name                  GPU Memory |\n",
            "|        ID   ID                                                   Usage      |\n",
            "|=============================================================================|\n",
            "+-----------------------------------------------------------------------------+\n"
          ]
        }
      ]
    },
    {
      "cell_type": "code",
      "source": [
        "#Mounting Google drive\n",
        "from google.colab import drive\n",
        "drive.mount('/content/drive')"
      ],
      "metadata": {
        "colab": {
          "base_uri": "https://localhost:8080/"
        },
        "id": "elHc4a4VnBJp",
        "outputId": "e52a5fe1-c9ef-4c81-d9b6-c21a32860dd5"
      },
      "execution_count": 31,
      "outputs": [
        {
          "output_type": "stream",
          "name": "stdout",
          "text": [
            "Drive already mounted at /content/drive; to attempt to forcibly remount, call drive.mount(\"/content/drive\", force_remount=True).\n"
          ]
        }
      ]
    },
    {
      "cell_type": "code",
      "source": [
        "import os\n",
        "#os.chdir(\"transformers\")\n",
        "os.chdir(\"/content/transformers/examples/tensorflow/language-modeling\")\n",
        "!ls"
      ],
      "metadata": {
        "colab": {
          "base_uri": "https://localhost:8080/"
        },
        "id": "tzvJ61_bnC44",
        "outputId": "9aed769b-11da-49eb-e6b2-95f1ef01c1b2"
      },
      "execution_count": 32,
      "outputs": [
        {
          "output_type": "stream",
          "name": "stdout",
          "text": [
            "README.md  requirements.txt  run_clm.py  run_mlm.py\n"
          ]
        }
      ]
    },
    {
      "cell_type": "code",
      "source": [
        "#Installing dependencies\n",
        "!pip install -r requirements.txt"
      ],
      "metadata": {
        "colab": {
          "base_uri": "https://localhost:8080/"
        },
        "id": "-zAZhxiJnDnX",
        "outputId": "83f120d5-821e-48fb-eba6-30c0a73c9bd1"
      },
      "execution_count": 33,
      "outputs": [
        {
          "output_type": "stream",
          "name": "stdout",
          "text": [
            "Requirement already satisfied: datasets>=1.8.0 in /usr/local/lib/python3.7/dist-packages (from -r requirements.txt (line 1)) (2.1.0)\n",
            "Requirement already satisfied: sentencepiece!=0.1.92 in /usr/local/lib/python3.7/dist-packages (from -r requirements.txt (line 2)) (0.1.96)\n",
            "Requirement already satisfied: multiprocess in /usr/local/lib/python3.7/dist-packages (from datasets>=1.8.0->-r requirements.txt (line 1)) (0.70.12.2)\n",
            "Requirement already satisfied: aiohttp in /usr/local/lib/python3.7/dist-packages (from datasets>=1.8.0->-r requirements.txt (line 1)) (3.8.1)\n",
            "Requirement already satisfied: fsspec[http]>=2021.05.0 in /usr/local/lib/python3.7/dist-packages (from datasets>=1.8.0->-r requirements.txt (line 1)) (2022.3.0)\n",
            "Requirement already satisfied: huggingface-hub<1.0.0,>=0.1.0 in /usr/local/lib/python3.7/dist-packages (from datasets>=1.8.0->-r requirements.txt (line 1)) (0.5.1)\n",
            "Requirement already satisfied: pandas in /usr/local/lib/python3.7/dist-packages (from datasets>=1.8.0->-r requirements.txt (line 1)) (1.3.5)\n",
            "Requirement already satisfied: importlib-metadata in /usr/local/lib/python3.7/dist-packages (from datasets>=1.8.0->-r requirements.txt (line 1)) (4.11.3)\n",
            "Requirement already satisfied: pyarrow>=5.0.0 in /usr/local/lib/python3.7/dist-packages (from datasets>=1.8.0->-r requirements.txt (line 1)) (8.0.0)\n",
            "Requirement already satisfied: dill in /usr/local/lib/python3.7/dist-packages (from datasets>=1.8.0->-r requirements.txt (line 1)) (0.3.4)\n",
            "Requirement already satisfied: requests>=2.19.0 in /usr/local/lib/python3.7/dist-packages (from datasets>=1.8.0->-r requirements.txt (line 1)) (2.23.0)\n",
            "Requirement already satisfied: xxhash in /usr/local/lib/python3.7/dist-packages (from datasets>=1.8.0->-r requirements.txt (line 1)) (3.0.0)\n",
            "Requirement already satisfied: packaging in /usr/local/lib/python3.7/dist-packages (from datasets>=1.8.0->-r requirements.txt (line 1)) (21.3)\n",
            "Requirement already satisfied: responses<0.19 in /usr/local/lib/python3.7/dist-packages (from datasets>=1.8.0->-r requirements.txt (line 1)) (0.18.0)\n",
            "Requirement already satisfied: numpy>=1.17 in /usr/local/lib/python3.7/dist-packages (from datasets>=1.8.0->-r requirements.txt (line 1)) (1.21.6)\n",
            "Requirement already satisfied: tqdm>=4.62.1 in /usr/local/lib/python3.7/dist-packages (from datasets>=1.8.0->-r requirements.txt (line 1)) (4.64.0)\n",
            "Requirement already satisfied: pyyaml in /usr/local/lib/python3.7/dist-packages (from huggingface-hub<1.0.0,>=0.1.0->datasets>=1.8.0->-r requirements.txt (line 1)) (6.0)\n",
            "Requirement already satisfied: filelock in /usr/local/lib/python3.7/dist-packages (from huggingface-hub<1.0.0,>=0.1.0->datasets>=1.8.0->-r requirements.txt (line 1)) (3.6.0)\n",
            "Requirement already satisfied: typing-extensions>=3.7.4.3 in /usr/local/lib/python3.7/dist-packages (from huggingface-hub<1.0.0,>=0.1.0->datasets>=1.8.0->-r requirements.txt (line 1)) (4.2.0)\n",
            "Requirement already satisfied: pyparsing!=3.0.5,>=2.0.2 in /usr/local/lib/python3.7/dist-packages (from packaging->datasets>=1.8.0->-r requirements.txt (line 1)) (3.0.8)\n",
            "Requirement already satisfied: chardet<4,>=3.0.2 in /usr/local/lib/python3.7/dist-packages (from requests>=2.19.0->datasets>=1.8.0->-r requirements.txt (line 1)) (3.0.4)\n",
            "Requirement already satisfied: urllib3!=1.25.0,!=1.25.1,<1.26,>=1.21.1 in /usr/local/lib/python3.7/dist-packages (from requests>=2.19.0->datasets>=1.8.0->-r requirements.txt (line 1)) (1.25.11)\n",
            "Requirement already satisfied: certifi>=2017.4.17 in /usr/local/lib/python3.7/dist-packages (from requests>=2.19.0->datasets>=1.8.0->-r requirements.txt (line 1)) (2021.10.8)\n",
            "Requirement already satisfied: idna<3,>=2.5 in /usr/local/lib/python3.7/dist-packages (from requests>=2.19.0->datasets>=1.8.0->-r requirements.txt (line 1)) (2.10)\n",
            "Requirement already satisfied: async-timeout<5.0,>=4.0.0a3 in /usr/local/lib/python3.7/dist-packages (from aiohttp->datasets>=1.8.0->-r requirements.txt (line 1)) (4.0.2)\n",
            "Requirement already satisfied: multidict<7.0,>=4.5 in /usr/local/lib/python3.7/dist-packages (from aiohttp->datasets>=1.8.0->-r requirements.txt (line 1)) (6.0.2)\n",
            "Requirement already satisfied: frozenlist>=1.1.1 in /usr/local/lib/python3.7/dist-packages (from aiohttp->datasets>=1.8.0->-r requirements.txt (line 1)) (1.3.0)\n",
            "Requirement already satisfied: yarl<2.0,>=1.0 in /usr/local/lib/python3.7/dist-packages (from aiohttp->datasets>=1.8.0->-r requirements.txt (line 1)) (1.7.2)\n",
            "Requirement already satisfied: attrs>=17.3.0 in /usr/local/lib/python3.7/dist-packages (from aiohttp->datasets>=1.8.0->-r requirements.txt (line 1)) (21.4.0)\n",
            "Requirement already satisfied: charset-normalizer<3.0,>=2.0 in /usr/local/lib/python3.7/dist-packages (from aiohttp->datasets>=1.8.0->-r requirements.txt (line 1)) (2.0.12)\n",
            "Requirement already satisfied: asynctest==0.13.0 in /usr/local/lib/python3.7/dist-packages (from aiohttp->datasets>=1.8.0->-r requirements.txt (line 1)) (0.13.0)\n",
            "Requirement already satisfied: aiosignal>=1.1.2 in /usr/local/lib/python3.7/dist-packages (from aiohttp->datasets>=1.8.0->-r requirements.txt (line 1)) (1.2.0)\n",
            "Requirement already satisfied: zipp>=0.5 in /usr/local/lib/python3.7/dist-packages (from importlib-metadata->datasets>=1.8.0->-r requirements.txt (line 1)) (3.8.0)\n",
            "Requirement already satisfied: python-dateutil>=2.7.3 in /usr/local/lib/python3.7/dist-packages (from pandas->datasets>=1.8.0->-r requirements.txt (line 1)) (2.8.2)\n",
            "Requirement already satisfied: pytz>=2017.3 in /usr/local/lib/python3.7/dist-packages (from pandas->datasets>=1.8.0->-r requirements.txt (line 1)) (2022.1)\n",
            "Requirement already satisfied: six>=1.5 in /usr/local/lib/python3.7/dist-packages (from python-dateutil>=2.7.3->pandas->datasets>=1.8.0->-r requirements.txt (line 1)) (1.15.0)\n"
          ]
        }
      ]
    },
    {
      "cell_type": "code",
      "source": [
        "#installing pyarrow\n",
        "!pip install pyarrow --upgrade"
      ],
      "metadata": {
        "colab": {
          "base_uri": "https://localhost:8080/"
        },
        "id": "fDOSNIL2nG59",
        "outputId": "4068b59c-6436-432b-c0ba-efe7090db49d"
      },
      "execution_count": 34,
      "outputs": [
        {
          "output_type": "stream",
          "name": "stdout",
          "text": [
            "Requirement already satisfied: pyarrow in /usr/local/lib/python3.7/dist-packages (8.0.0)\n",
            "Requirement already satisfied: numpy>=1.16.6 in /usr/local/lib/python3.7/dist-packages (from pyarrow) (1.21.6)\n"
          ]
        }
      ]
    },
    {
      "cell_type": "code",
      "source": [
        "!pwd"
      ],
      "metadata": {
        "colab": {
          "base_uri": "https://localhost:8080/"
        },
        "id": "v2GtnUj-nK7v",
        "outputId": "f414fceb-8932-4500-8246-9c294d72718a"
      },
      "execution_count": 35,
      "outputs": [
        {
          "output_type": "stream",
          "name": "stdout",
          "text": [
            "/content/transformers/examples/tensorflow/language-modeling\n"
          ]
        }
      ]
    },
    {
      "cell_type": "code",
      "source": [
        "#installing transformers from github repository\n",
        "!pip install git+https://github.com/anur98/transformers"
      ],
      "metadata": {
        "colab": {
          "base_uri": "https://localhost:8080/"
        },
        "id": "QHmo6pr4nMpX",
        "outputId": "5a967f36-6890-4999-aea7-086f162c7919"
      },
      "execution_count": 36,
      "outputs": [
        {
          "output_type": "stream",
          "name": "stdout",
          "text": [
            "Collecting git+https://github.com/anur98/transformers\n",
            "  Cloning https://github.com/anur98/transformers to /tmp/pip-req-build-a_554qsn\n",
            "  Running command git clone -q https://github.com/anur98/transformers /tmp/pip-req-build-a_554qsn\n",
            "  Installing build dependencies ... \u001b[?25l\u001b[?25hdone\n",
            "  Getting requirements to build wheel ... \u001b[?25l\u001b[?25hdone\n",
            "    Preparing wheel metadata ... \u001b[?25l\u001b[?25hdone\n",
            "Requirement already satisfied: requests in /usr/local/lib/python3.7/dist-packages (from transformers==4.19.0.dev0) (2.23.0)\n",
            "Requirement already satisfied: filelock in /usr/local/lib/python3.7/dist-packages (from transformers==4.19.0.dev0) (3.6.0)\n",
            "Requirement already satisfied: importlib-metadata in /usr/local/lib/python3.7/dist-packages (from transformers==4.19.0.dev0) (4.11.3)\n",
            "Requirement already satisfied: tqdm>=4.27 in /usr/local/lib/python3.7/dist-packages (from transformers==4.19.0.dev0) (4.64.0)\n",
            "Requirement already satisfied: pyyaml>=5.1 in /usr/local/lib/python3.7/dist-packages (from transformers==4.19.0.dev0) (6.0)\n",
            "Requirement already satisfied: tokenizers!=0.11.3,<0.13,>=0.11.1 in /usr/local/lib/python3.7/dist-packages (from transformers==4.19.0.dev0) (0.12.1)\n",
            "Requirement already satisfied: huggingface-hub<1.0,>=0.1.0 in /usr/local/lib/python3.7/dist-packages (from transformers==4.19.0.dev0) (0.5.1)\n",
            "Requirement already satisfied: packaging>=20.0 in /usr/local/lib/python3.7/dist-packages (from transformers==4.19.0.dev0) (21.3)\n",
            "Requirement already satisfied: regex!=2019.12.17 in /usr/local/lib/python3.7/dist-packages (from transformers==4.19.0.dev0) (2019.12.20)\n",
            "Requirement already satisfied: numpy>=1.17 in /usr/local/lib/python3.7/dist-packages (from transformers==4.19.0.dev0) (1.21.6)\n",
            "Requirement already satisfied: typing-extensions>=3.7.4.3 in /usr/local/lib/python3.7/dist-packages (from huggingface-hub<1.0,>=0.1.0->transformers==4.19.0.dev0) (4.2.0)\n",
            "Requirement already satisfied: pyparsing!=3.0.5,>=2.0.2 in /usr/local/lib/python3.7/dist-packages (from packaging>=20.0->transformers==4.19.0.dev0) (3.0.8)\n",
            "Requirement already satisfied: zipp>=0.5 in /usr/local/lib/python3.7/dist-packages (from importlib-metadata->transformers==4.19.0.dev0) (3.8.0)\n",
            "Requirement already satisfied: idna<3,>=2.5 in /usr/local/lib/python3.7/dist-packages (from requests->transformers==4.19.0.dev0) (2.10)\n",
            "Requirement already satisfied: urllib3!=1.25.0,!=1.25.1,<1.26,>=1.21.1 in /usr/local/lib/python3.7/dist-packages (from requests->transformers==4.19.0.dev0) (1.25.11)\n",
            "Requirement already satisfied: chardet<4,>=3.0.2 in /usr/local/lib/python3.7/dist-packages (from requests->transformers==4.19.0.dev0) (3.0.4)\n",
            "Requirement already satisfied: certifi>=2017.4.17 in /usr/local/lib/python3.7/dist-packages (from requests->transformers==4.19.0.dev0) (2021.10.8)\n"
          ]
        }
      ]
    },
    {
      "cell_type": "code",
      "source": [
        "!pwd\n",
        "%cd /content"
      ],
      "metadata": {
        "colab": {
          "base_uri": "https://localhost:8080/"
        },
        "id": "PcqZX_BznQ-f",
        "outputId": "39ae5197-f4f2-40a9-f156-07f3d98aa53f"
      },
      "execution_count": 37,
      "outputs": [
        {
          "output_type": "stream",
          "name": "stdout",
          "text": [
            "/content/transformers/examples/tensorflow/language-modeling\n",
            "/content\n"
          ]
        }
      ]
    },
    {
      "cell_type": "code",
      "source": [
        "#Fetching model from drive and initializing it\n",
        "\n",
        "from transformers import TFGPT2LMHeadModel\n",
        "from transformers import GPT2Tokenizer\n",
        "\n",
        "mymodel2 = TFGPT2LMHeadModel.from_pretrained(\"/content/drive/MyDrive/mymodel2\", from_pt=False)\n",
        "tokenizer = GPT2Tokenizer.from_pretrained(\"gpt2\")"
      ],
      "metadata": {
        "colab": {
          "base_uri": "https://localhost:8080/"
        },
        "id": "AhzwleRknXAp",
        "outputId": "e48012f3-fdd7-411b-ad6c-3a631a223670"
      },
      "execution_count": 38,
      "outputs": [
        {
          "output_type": "stream",
          "name": "stderr",
          "text": [
            "All model checkpoint layers were used when initializing TFGPT2LMHeadModel.\n",
            "\n",
            "All the layers of TFGPT2LMHeadModel were initialized from the model checkpoint at /content/drive/MyDrive/mymodel2.\n",
            "If your task is similar to the task the model of the checkpoint was trained on, you can already use TFGPT2LMHeadModel for predictions without further training.\n"
          ]
        }
      ]
    },
    {
      "cell_type": "code",
      "source": [
        "#Setting our initial token\n",
        "initial_input_tokens = tokenizer.encode(\"I love deep learning\", return_tensors='tf')"
      ],
      "metadata": {
        "id": "dzrLLkkJnZpY"
      },
      "execution_count": 39,
      "outputs": []
    },
    {
      "cell_type": "code",
      "source": [
        "# the tf tensor object\n",
        "initial_input_tokens[0]"
      ],
      "metadata": {
        "colab": {
          "base_uri": "https://localhost:8080/"
        },
        "id": "dNQza_jcnbfA",
        "outputId": "443b2761-cb77-4884-8509-8937e9542404"
      },
      "execution_count": 40,
      "outputs": [
        {
          "output_type": "execute_result",
          "data": {
            "text/plain": [
              "<tf.Tensor: shape=(4,), dtype=int32, numpy=array([  40, 1842, 2769, 4673], dtype=int32)>"
            ]
          },
          "metadata": {},
          "execution_count": 40
        }
      ]
    },
    {
      "cell_type": "code",
      "source": [
        "generated_text_samples = mymodel2.generate(\n",
        "    initial_input_tokens, \n",
        "    max_length=10000,\n",
        "    min_length = 1000,\n",
        "    num_return_sequences=10,\n",
        "    no_repeat_ngram_size=2,\n",
        "    repetition_penalty=1,\n",
        "    top_p=0.92,\n",
        "    temperature=.85,\n",
        "    do_sample=True,\n",
        "    top_k=125,\n",
        "    early_stopping=False\n",
        ")"
      ],
      "metadata": {
        "colab": {
          "base_uri": "https://localhost:8080/"
        },
        "id": "Cu11WRUdndEp",
        "outputId": "9596e627-a03d-4792-ca21-d8cc3e6744b3"
      },
      "execution_count": 41,
      "outputs": [
        {
          "output_type": "stream",
          "name": "stderr",
          "text": [
            "Setting `pad_token_id` to 50256 (first `eos_token_id`) to generate sequence\n"
          ]
        }
      ]
    },
    {
      "cell_type": "code",
      "source": [
        "import nltk\n",
        "nltk.download('punkt')"
      ],
      "metadata": {
        "colab": {
          "base_uri": "https://localhost:8080/"
        },
        "id": "B9Zt3bDUccDO",
        "outputId": "44b62f35-c76b-4e36-bb87-9e1d8de4717e"
      },
      "execution_count": 42,
      "outputs": [
        {
          "output_type": "stream",
          "name": "stdout",
          "text": [
            "[nltk_data] Downloading package punkt to /root/nltk_data...\n",
            "[nltk_data]   Package punkt is already up-to-date!\n"
          ]
        },
        {
          "output_type": "execute_result",
          "data": {
            "text/plain": [
              "True"
            ]
          },
          "metadata": {},
          "execution_count": 42
        }
      ]
    },
    {
      "cell_type": "code",
      "source": [
        "#Print output for each sequence generated above\n",
        "from nltk.tokenize import sent_tokenize\n",
        "for iter, beam in enumerate(generated_text_samples):\n",
        "  output_sequence = tokenizer.decode(beam, skip_special_tokens=True)\n",
        "  a = sent_tokenize(output_sequence)\n",
        "  print(\"-------------------------------------------------------  Generated song \"+str(i)+\" --------------------------------------------------------------------------\")\n",
        "  for j in range(len(a)):\n",
        "    print(a[j])\n",
        "  print()"
      ],
      "metadata": {
        "colab": {
          "base_uri": "https://localhost:8080/"
        },
        "id": "YcRvWsa2nfP8",
        "outputId": "dc63b87e-e274-48e4-cc8a-cb405ae263c7"
      },
      "execution_count": 43,
      "outputs": [
        {
          "output_type": "stream",
          "name": "stdout",
          "text": [
            "-------------------------------------------------------  Generated song 9 --------------------------------------------------------------------------\n",
            "I love deep learning and deep learnin love (long learning) I just know that you love me, and you are mine, too.\n",
            "(I know, I know) Oh you say it, let's just go and make some changes.\n",
            "If you wanna see me do it again, just let me see your face do something new.\n",
            "Come back and see what I'm doin' for you (do something to me) It's only right that I love you, for me.\n",
            "I don't wanna be alone with you or your child.\n",
            "Just look around and wonder what we are doing to each other.\n",
            "There's something in me that's not there, that seems to be nothing that makes me happy (no, no, oh no) Let me just walk away and never let go (it's all right) When the lights go out, the stars rise in the sky.\n",
            "The light is shining and the light shines through (oh oh oh) So when I stand up and shout to you I will be standing up (Yes, yes, yeah) Yeah, it's okay, alright, okay I'll be standin', stand in and stand out and be a real star of this day, forever, never stop.\n",
            "This is what makes us strong, we strong and strong.\n",
            "Yeah man, man I grew up on this earth, this planet, my whole family of four, son of a bitch that didn't do shit for my family (baby) man baby, baby man (woman, mother, father, mom) baby yeah, uh, how are you?\n",
            "(huh) (how are they?)\n",
            "(yeah) How are them?\n",
            "Oh, what are these niggas do?\n",
            "I told you that when you don’t want to leave, you” and that they are n******* do what they want 2 get the fuck outta me 2 go away 2 kill me no more 2 think about your feelings 2 do everything you want and want 4 believe in yourself 4 want you to come back to my home 4 see the sun 2 see a different light 2 be alive (life) 2 come 2 become alive, alive 2 live 2 die 2 understand, die, live, love 2 love, come, know you're mine 2 speak out to love 4 speak up to life 4 ask yourself what you think that is wrong 2 say what it is, is it wrong, do you know?\n",
            "This means that it means to lose control over you.\n",
            "It means, to get a grip on your body (hold on) all you need is somebody to live and keep going (go) go there (Go there) You're beautiful, beautiful to go, darling, lovely to Go there Go in there go in here go it go here It go anywhere (here go) Get there just before you begin, right here here baby baby What's your name?\n",
            "What is your first name, who is that name you've ever met?\n",
            "Hey!\n",
            "Hey (hey!)\n",
            "(Hey!)\n",
            "Hey, hey!\n",
            "(Oh, hello) Hey\n",
            "Prayer changes the way we make a living; the days that we move through can change, or the ways that the world moves through We make our lives a lot easier than we think it would be to do this in a second world if we had to change (woo!)\n",
            "We never really considered taking anything for granted, but we still feel it can be.\n",
            "Hey man!\n",
            "I'd have known for years that there would come a time when we could, where we were at, before, if it came around, a place that was livin“' in, livtin‚ livlin' if you were alive or dead, (live and live in livgin— livizzle) liviny now baby (now baby) oh baby oh, now I gotta live for the rest of my life I wanna get up off the block, all day and I got my shot, shot (shot) yeah (Shot) shoot (shoot), shoot!\n",
            "and boom boom, boom (bang) boom Boom Boom, bang!\n",
            "boom ooh ooo oooh baby oooo ooooo ooom oOo, o oOOOO, Ooooo, ok ooooooooo, OK ooooooooooooooooooooo (okoo) Ooooooooooo (oooooo) oOOOooooOOOOO (oooooooooo-oooooooo-oooooo,ooo,oooo) This nigga bitch is a criminal!\n",
            "This shit is for real baby niggers, not just for criminal defendants, law-abiding citizens, legal citizens.\n",
            "[Bridge: Chris McGhee] [Passionate] (guitar] There ain't no better time than when my feet were shaking and my toes were slamming, like an earthquake, [Chorus: x2] I've had enough, so I can feel so good that someone with me can say just what is right for a man with no other life to ask for (so I could feel good) [Verse 2:\n",
            "\n",
            "-------------------------------------------------------  Generated song 9 --------------------------------------------------------------------------\n",
            "I love deep learning, I love it and I feel it is just the beginning, never going to end.\n",
            "— Natalie Moore, Kia, Amy, and Lexa (Oh) — Rihanna, Rihana, Kanye West, Queen of Love (yeah) I'll always be with you, love, kiss me, tell me what I need to do, let me go home, give me everything, don't let go, just let it go.\n",
            "And the more I put it down, the deeper I see it, go deeper.\n",
            "(Heaven bless the world, bless, yeah, huh) The other night I looked at the block full of roses, she was so happy and so grateful to me.\n",
            "So happy, so amazing, all night long.\n",
            "There's something I just want to say right now, right here in this beautiful valley, where I lay this tree, oh, whoa, Whoa!\n",
            "There ain't nothing I can do here, no, this is not the place, my love is in vain!\n",
            "I'm not going home for me today, today.\n",
            "I keep my head high, keep it low, steady, every now and then, baby, what's your name?\n",
            "(Hold me tight, tight) (LITTLE BELL) Baby, babe, are you ready?\n",
            "You're ready, you're waiting for it baby I want you now baby (I want your body now) Now, girl, how long before I could see the rain?\n",
            "I was twenty years old, twenty-six, he was forty years long, but he had grown more, ten, than a hundred years.\n",
            "He was still twenty at that time, sixty years of age.\n",
            "But this was a man whose body was the center of my life and the heart of the soul.\n",
            "Oh, there's nothing like that, do you feel when I give it my all?\n",
            "— Linda, Linda.\n",
            "Just to show you a couple of reasons why you wanna be my girl (don't leave me) She's been here for twenty seasons, been there for forty.\n",
            "That's what you want me to be, when you need it (No, only) my, your, mine, yours, hers (me) What you got?\n",
            "Why you can't I touch it like this?\n",
            "What I got for you?\n",
            "And I'd never, ever, EVER have been to, NEVER, WOULDN'T WON'TS ME A WHOLE DAY!\n",
            "Oh!\n",
            "Yeah!\n",
            "We're gonna have a party this Friday!\n",
            "(Come on, come on!)\n",
            "(come on) Oh-oh!\n",
            "And if we're going out tonight, we'll have fun tonight (dance) oh-ooh-oooh, (ooo-ooo-oom-wow) One by one, one by the other, two by this one (woo) A-ha!\n",
            "One more time to make it all so easy.\n",
            "No one can stop, can just turn back, turn away, say no to the angels, will you stop?\n",
            "Well, tonight I will be there, not there.\n",
            "Yes, yes, YES, NO.\n",
            "YES.\n",
            "N-O-N-R-E-L-D-I-S-C-M-A.D. We both have memories of one another.\n",
            "Let me be your lover tonight.\n",
            "Come on tonight and tell my story, telling my stories, coming on and on on.\n",
            "Don't say nothing, nothing.\n",
            "It's a beautiful place.\n",
            "You can fall asleep, feel a fine breeze, fall in love.\n",
            "Your body's got some secrets to reveal.\n",
            "Take me for an hour, take me home tonight to see you again.\n",
            "Then let's get on the highway home.\n",
            "Look at me again, look at my body, see me tomorrow.\n",
            "Do you know what it's like to live like your life in New York?\n",
            "Let's see what happens to you tonight when we all die together?\n",
            "[Chorus] [Ludacris] Take the shot, get my shot shot!\n",
            "[Bridge to Verse] Yeah, uh-e-la-lo, hey-hey, hello-ya-ey-hoo, alright-hy-hh-ehoo.\n",
            "[Yee-yee yeey-yah] Oh baby baby oh baby!\n",
            "Hello, Hello!\n",
            "My name is, is my name, dear.\n",
            "Hello again [Cocaine] I know you love me so, loving me all along, forever, happy tonight [Repeat (repeat to Repeat) [Eyes] Let it be!\n",
            "Letit, it will, that it shall, of course, be I've been waiting and waiting.\n",
            "Now you better come home [Verse 1: \"Ain't no need for a-ho-wo-tho-my-pooh\"] (Gimme some credit for that) Well I guess it would be nice if I had my hand in that game I wouldn't be walking around without you\n",
            "\n",
            "-------------------------------------------------------  Generated song 9 --------------------------------------------------------------------------\n",
            "I love deep learning is not the cure for you and me, but it's the start of something special for me (I wanna be with you) oh, oh oh I love you babe, babe oh (you know what?)\n",
            "oh yeah!\n",
            "Oh, yeah, this whole thing is going to be a success!\n",
            "oh-oh, it seems so, so strange now to me what the hell was I supposed to do?\n",
            "oh What the fuck was that?\n",
            "Hey, hey, I'm a part of this life, a piece of me that I don't really need no more, no, yes, just a little bit of love.\n",
            "It's getting harder and harder to keep up with this, and I'll still be there for your love, like, look at you!\n",
            "(Oh, how?\n",
            "How?)\n",
            "(Wait a minute, whoa!)\n",
            "(Whoa!\n",
            "Whoa, Whoaa!)\n",
            "Oh oh!\n",
            "This is the whole game, what you want?\n",
            "(Holy hell, holy hell!)\n",
            "It seems to matter to you, honey, you got it all (oh oh!)\n",
            "All that's about to change (woo) (ooh) - (Ooh!)\n",
            "- I can't keep my distance, baby, to the ground and beyond, let me never forget where I started, where it is now, now oh - oh Oh I know I'd rather have my hand, for sure, right now!\n",
            "- It would be fine for the world to mourn the death of our beloved and loved ones.\n",
            "-And you can kiss me like a million times in a row (maybe) it would really be wonderful if you said goodbye to my beloved I would never let go of my love forever, forever (You never got me back) I've been looking for a way to hide, hide from you forever.\n",
            "And if my heart's still inside me I wonder just how I ever can tell that it will end.\n",
            "I wish that we could not be together forever [Chorus: x2] [Live Another Day] (Live another day) [Subsidy, Subsid] The worst of all is my future, my soul, your soul (So please come on, come back on) Hey!\n",
            "Hey!!\n",
            "(Mama, Mama) So please bring on my fans, (Yes, Yes, Yeah, She Wants To Be With Me) We had the best of it, best, we had everything [Repeat: 1:30] We were so very small (no more) we wanted to take it down.\n",
            "(Repeat 3:40) Let me tell you just what I want to hear, as I said, [Verse 2:45] Oh!\n",
            "Come on!\n",
            "[x2:49] This love is a gift, its a curse, an invitation, invitation.\n",
            "[Prayer 2:] [Side 2] Yeah!\n",
            "Yeah [X2:] Ooh yeah I guess I dont even know if I got some girls, girl, is that why?\n",
            "[Y2S:] Let's party this afternoon on a sunny day, young and old, that was the only time that this love had changed [2X3:] Yeah (yeah!)\n",
            "[4:] I just can’t understand you're going through this kind of pain, when you talk to her and she's feeling the same [3:12] I miss you so much, don“t get mad at me if it ain't your business, not your company [Play: 2x] When you”re crying it‪s like you were singing a song on the radio [Vibration: Play 2 x 2) Ooooo ooh ooooo oh ooooooooo oh 2-3 ooo-ooooo [Ludacris] - OOOOOOOOOOOOOOOOOOO Ooooooooo oOOOOOOOO.\n",
            "O-Ooooooooo Oooo Ooo oooo oOO o-oo OOOOO OOO (Lunar) oooooooooo (La la la) Oh baby (baby, La la, la oh baby) Baby, stay here baby!\n",
            "Baby!\n",
            "My heart beats, her eyes go blue, she sees me staring back at the sky, thinking of a miracle in my life.\n",
            "Just be patient and watch the way you act (keep your eyes open) donít you understand what we're talking about?\n",
            "Why not treat the pain in your body?\n",
            "I tried to help you with everything, everything I have done in life!\n",
            "I try to figure out where you from I came from, all my lives, All my long and hard work to make you happy, alright, okay, OK, Okay!\n",
            "What's that, good for u?\n",
            "Yeah... What is it?\n",
            "Oh yes!\n",
            "Wait!\n",
            "See me in the mirror?\n",
            "And you know, see me everywhere!\n",
            "Now you better trust me now.\n",
            "Look at my TV, watch it now baby baby Look around my face?\n",
            "Uh, please stop calling me my name (uh-uh)\n",
            "\n",
            "-------------------------------------------------------  Generated song 9 --------------------------------------------------------------------------\n",
            "I love deep learning on this site.\n",
            "If you'd like to let me know, please contact me at love.com/love.\n",
            "I know how I feel and believe I can hold you back.\n",
            "(I know it's your birthday) I don't need to worry about it!\n",
            "And I just know I'm giving you the keys to the future (my life's in your hands) And you know we both love and we've just been through it right, right?\n",
            "My love is going to be through, and it will be beyond me!\n",
            "If u never wanna have a boy or a girl again, you're gonna be alone with me, no matter what you do to me.\n",
            "And if u ever want a man, he's not yours.\n",
            "It's up to you to figure out who the fuck is you and who's you (you're mine) Now if U ever wanna stay with u, I'd love to love you, yeah, u'd want to stay, oh yeah I wanna go, yes I want you now, now (now) (Now) All I've got is a ring full of keys I'll hold my head high when I close my eyes, the sound of the alarm, is strong (strong) Everything I gotta say (always, always) is mine!\n",
            "It sounds so good to have you there!\n",
            "I went to sleep last night with a love that is priceless!\n",
            "(Come on, come on!\n",
            "Come on!)\n",
            "Oh, baby, this is how you got it, so amazing!\n",
            "Oh!\n",
            "oh, my God!\n",
            "What's it all about?\n",
            "Is it true?\n",
            "When you talk about everything I say I mean baby how can I give it to someone else?\n",
            "I said the most things I ever said, that I hate it and I could be your lover, but I never would.\n",
            "When I hear you say it I will.\n",
            "This is my last true love, it is your last love (love is yours) Well, uh, when you hear the news, then it gets all right.\n",
            "Every time you see me just take my time, take mine, give mine to my man!\n",
            "You're the only one that you can take me for granted!\n",
            "Uh, Uh oh oh?\n",
            "(Oh) Oh oh!\n",
            "Uhh, Uhhh, You know that we're in love!\n",
            "Ooh, ooh!\n",
            "Okay, alright, okay, ok, OK, Okay (OK, let's go) OK. Uh-oh-uh-oo-hoo, do what's right and what isn't right...\n",
            "(Woo!)\n",
            "Ok, Ok!\n",
            "Well we go back and forth (woo) Hey!\n",
            "This, we, for the last time and for all of my life!\n",
            "Yes, what we do is what the other guy does?\n",
            "Uh!\n",
            "Haha (haha) Hahah-ah!\n",
            "haha.\n",
            "Give me a second chance (we go in the dark) Let me close your eyes and let you think that's okay (ohh, hah) Wait!\n",
            "We go now!\n",
            "So we can get to know each other better now Ohh-eh-eoh: (Hoo!\n",
            "yeah) My momma still love me so much, she loves me too, (she loves you too) Yeah, Yeah (ahhh) We can see all the things that'll ever be there, ever present!\n",
            "Yeah!\n",
            "No, nothing will ever come out of nowhere (all things) So, all you have to do now is just hold on to each others and pray for that, get on the right track, pray, prayer for it (uhh) How could you be so close to being alone when everything's so wrong?\n",
            "It all depends on your life, life I got a boss, a rich man and a pretty woman?\n",
            "Oh.\n",
            "Oh...oh oh... oh Oh-Oh, Oh (what a miracle!)\n",
            "No!\n",
            "That's all I need!\n",
            "Why, why, how could I be free?\n",
            "Look at that last little bit of dirt on my face!\n",
            "Now let it go!\n",
            "God, God.\n",
            "God damn, wait!\n",
            "Turn it around!\n",
            "Get on up!\n",
            "Pull up up, pull up...\n",
            "Pull it up (push up) Right now it looks like you better get outta here!\n",
            "Look out my window, look out, see my windows, See my house, be away!\n",
            "Go!\n",
            "go.\n",
            "See your window!\n",
            "When u move, to your car, go ahead!\n",
            "Move!\n",
            "Right away.\n",
            "Well I had to work for hours to get my money through to school, make a living, finally get a million dollars.\n",
            "Now, without the paper clip, nobody's gonna take it home.\n",
            "No one's here to save me (no one, everybody's going home) No One's there to take control of our destiny (No one) That shit we make up is all that matters, honey!\n",
            "Can't believe it when we see each Other's out there (out there)\n",
            "\n",
            "-------------------------------------------------------  Generated song 9 --------------------------------------------------------------------------\n",
            "I love deep learning, love the way you touch me (love me) It's not a love (suck) no more!\n",
            "and it's a blessing!\n",
            "Now baby, can I get it?\n",
            "(I'm not supposed to) now baby baby!\n",
            "If you love me, I'll let you go!\n",
            "Yeah, yeah, you can do this right here in Atlanta, Georgia.\n",
            "I've got my first love, my second love I think I got a lot more to say.\n",
            "Oh, oh, we should be together!\n",
            "We should have a party, uh, now, when you're sober!\n",
            "Oh oh!\n",
            "He's the one that'll lift us up.\n",
            "(hoo-oo) (Hoo, ho-oh) The angels will fly and they will fall!\n",
            "(oh-uh) I do, do I!\n",
            "I don't want nothing, no, nothing!\n",
            "Well, they just like it in the daytime I'm coming for you!\n",
            "You say it to me?\n",
            "It is a prayer, it is an invitation.\n",
            "You call it a celebration.\n",
            "And I like the things that you do that make you feel so good and so wonderful.\n",
            "These things you don’t even give a fuck about, (woo).\n",
            "Oh you know I‚m a million miles away!\n",
            "And it turns out that I am, by nature, a beast of fire.\n",
            "There's nothing in between, but I know that it”s too much for me to cry.\n",
            "No, baby.\n",
            "But you need to, Baby.\n",
            "Baby, girl, to love.\n",
            "It“s like I see you in a movie, and you better take it off.‬ And your love is so hard, so unhelpful.\n",
            "That you‘ll want to dance with me now.\n",
            "Well I can dance, just stay on the floor, play with a little bit of me.\n",
            "Yeah.\n",
            "We can move fast, too, eh.\n",
            "See?\n",
            "See, the color of my skin, your skin.\n",
            "If the rain had not been gone I wouldn‡t have been sleeping on that shore, not so far away.\n",
            "Let it be, let it lie, tell it, please tell that lie no matter what you say to the people around you, what they want from me at home.\n",
            "Do you see that, are you happy?\n",
            "You see I hate you when I talk to you?\n",
            "Do I care?\n",
            "I will let go?\n",
            "If I want a woman to be with you baby I won't stop talking to her baby you won•t stop talkin' to them baby (baby) and not stop (be-a-ha-ah-aha-ahah) Cause I love you all I ever have (sex, sex,) is in my hands, that's all in your heart, motherfucker.\n",
            "She's such a beautiful girl that she comes back from the dead.\n",
            "My mother did not care, she knew that what she wanted was so amazing to know, because she never understood.\n",
            "Why donít you let me go and do it again?\n",
            "Why would you call me \"Love\" in vain, for I need you to feel it so beautiful, yet this is not love!\n",
            "Sometimes I feel the urge to turn around, cause I really need it right now?\n",
            "Oh yeah!\n",
            "Everytime I go down, everytime we go up on a hilltop, like a church choir.\n",
            "Uhhh, Uhh, look at me like this.\n",
            "Just remember how you did it all before I left?\n",
            "Uhhhh, uhh.\n",
            "Wait, wait, hey!\n",
            "UHH, ah!\n",
            "This is the only love in this world!\n",
            "No you could ever be my love again!\n",
            "The only way I could have that same love will be mine, yes, me if I wanted a dog like me!\n",
            "It feels so great to see me in that mirror.\n",
            "So hard to believe, ever so impossible to live with.\n",
            "'Cause I have just the same thing, — love on your body and in everything I touch and touch it with every step of your life, all the time!\n",
            "Baby!\n",
            "Let's go get this, get these hoes!\n",
            "How is it that we've been so so perfect to hold hands on each other?\n",
            "What a strange thing to do!\n",
            "What if we lose it and we just forget?\n",
            "And then it ends, of course.\n",
            "The game of peace is, in itself, fantastic, wonderful, great, amazing, lovely, beautiful!\n",
            "So I just went back to sleep, as soon as I heard the news of her death, where her body was.\n",
            "Ooh, ooh!\n",
            "Ooo!\n",
            "oooooo,ooooooooooo!\n",
            "One time I was there in her house, wishing she could keep you warm and warm, wish you a happy life.\n",
            "Every day, at least every day I would be here, hoping to find you again.\n",
            "One day a year, three, four, five, six, seven, eight, nine, ten, eleven\n",
            "\n",
            "-------------------------------------------------------  Generated song 9 --------------------------------------------------------------------------\n",
            "I love deep learning, that's how I write this shit) So I'm going through it, I got to put my hands up in the air, keep me up, uh, yeah.\n",
            "(And I like the way I do it) I wanna be with you in my life I love you very much, if you can, oh yeah (I like to go get married) And you love me very well, baby, don't you give a fuck about it?\n",
            "I just wanna know how this is going to end, just like how it feels to me, my little girl, what I really wanna do, to her baby I want you to help me now, and just so I can show you how you feel about me baby (oh) oh, so, now baby oh (Oh) baby baby all I need is you, all my love, your love (we just want it now) (uh) ah ah (ah) so this time, it's gonna be alright baby a-ooh (U-O-oo-ooo-oh, ooh-oooo) Hey, honey, this love is so real now let me be right here in your heart, let my heart be real, love just a little bit longer, but no matter what, you are the one I am, (woo) Oh, how do you think this pain is worth it when I see you again, do I believe it (Woo, woo oh) yeah yeah, well yeah Oh-yo-ho-yeah, wo-wo-wow-uu-uh-u-eh-w-ah-aw-up-that's my name, shout my number out to you oh no, no!\n",
            "But I won't let you go away, for you my only friend is in Atlanta, like you and me (Uh oh oh o-oop) Uh, aye-ye (Ah) my last name is mine, mine (Nah, O-ee, yee) My only one in love with me is me and you (Let me go) Why, why, because I hate, hate (Why, thank you for my precious love) What, when do we come back from the grave?\n",
            "(Go, go, Go) Do you wanna see me again?\n",
            "Do ya wanna hear me?\n",
            "What am I supposed to do?\n",
            "Where are you now?\n",
            "The next time I feel this I'll always be there, always there with my lover?\n",
            "It's all about love to be loved to love I never saw a woman so big and beautiful (Baby) and then it just ends up the same, with no strings attached and no keys attached (Ooh oh!\n",
            "oh!)\n",
            "Oh oh for the blood.\n",
            "If you need help I give you all of my kisses (bea) yes, come on, give me all your kisses, take my arms and I will touch you with your lips, kiss your hand, touch your body, hold your hips, hand I mean, yes this moment I know you're mine.\n",
            "So if I ever need you then you'll come and give it all to someone.\n",
            "I don’t want a thing like that, cause I‚m in no hurry for it.\n",
            "Oh baby you know, please let” is it going down on its own?\n",
            "oh baby You know it‡s going Down on it down it on itself?\n",
            "baby now do me a favor and be on my own, okay, alright, OK, ok, Ok, the more I make love there again I tell you it makes me feel so good about you baby what's your name?\n",
            "Well now I've got something so special about being with the world I have to live in.\n",
            "But the love of love itself makes you so beautiful.\n",
            "Yeah, yea, good things happen in life and that makes it so lovely.\n",
            "Well, are u gonna let go of a stranger?\n",
            "You're my favorite one, she's a very nice lady, huh, pretty lady Yeah!\n",
            "Oh what do u want from you?\n",
            "Oh you like what u got?\n",
            "Now please leave your money to the state of Georgia, Georgia I keep calling you'says me my lady I go by my sweet, sweet lady (Ladies, ladies, Ladies, gentlemen) This is my wish I would ever have thought about (feel it again) No, say,, put a smile on me.\n",
            "No-no-nonsense.\n",
            "There's nothing to lose and we're forever together, alive and well (A-ha-aha-a-aa-aaaa) When I walk you down the street, walk your way, walking your ways, going your own way; that‧s not a problem, really, is not, not it a real problem?\n",
            "Stop there!\n",
            "Stop, stop, quit, wait, be quiet and listen, hear, listen (hoo!)\n",
            "Stop!\n",
            "I'd love it if the road was paved, paved\n",
            "\n",
            "-------------------------------------------------------  Generated song 9 --------------------------------------------------------------------------\n",
            "I love deep learning, all the things you do, no need for me to stop it (love deep learn, everything you did, nothing) I know that you got it, I don't know why, you don’t know what it means to be a Christian, and I like it.\n",
            "It's beautiful, it's amazing.\n",
            "Oh oh, oh oh!\n",
            "What the hell are you waiting for?\n",
            "I mean that's what I'm tellin' ya right now, baby, wait for it now And I believe in heaven now oh baby that it all starts to creep me out (oh baby) Now, yeah, we go headlong into this dream of a heaven, God, for heaven's sake, heaven is good!\n",
            "(God's blessing!)\n",
            "(Go head, head) (go headhead, go) Yeah, there's no doubt about it I feel it and it keeps on moving on and on with me.\n",
            "(Oh, wow!)\n",
            "Baby, can't be in love with my life anymore.\n",
            "You don' know how I fall and fall in these same places, don`t you know where you came from?\n",
            "(Yeah, now you're here, right there, in the beginning of love) No, No.\n",
            "I never left the club, never got no money to pay for my ticket.\n",
            "My body is gone, my body's gone.\n",
            "No matter what you say, alright!\n",
            "I do not want to have to work for you!\n",
            "Oh, yes, OK, ooh, or o-oh-ooh!\n",
            "Okay, okay, ok, Okay!\n",
            "My soul is dead!\n",
            "OK!\n",
            "So why bother?\n",
            "Well, because I wanna be the one who finds it when it feels wrong, why don?\n",
            "Hey, hey, Hey!\n",
            "Hey!?\n",
            "OK-Oh-yeah-hey!\n",
            "Ah!\n",
            "Well!\n",
            "Yeah!\n",
            "And it was just another dream, but it wasn't so bad, so great!\n",
            "Now I came home again!\n",
            "This is a different world, this is in my head!\n",
            "It was like a Christmas tree, a tree grown in a shed.\n",
            "Well...\n",
            "I've been through this, she's been thru this again, her eyes have been opened.\n",
            "So I just don, just won't let it end!\n",
            "There's a lot of reason, sometimes it might seem strange, maybe it may seem like odd.\n",
            "But I try to love you so, to make it seem so.\n",
            "Love is so precious and so strong.\n",
            "-Mamma, mama, do you like the way you dress I love the ways you rub my shoulders?\n",
            "-Missy, Mama!\n",
            "-The way I dress you and you you, the number one dance on the radio?\n",
            "Missy-mama -You know, Missmamama you can feel me in your chest, your eyes, whatcha, (Yes, that, darling, sweet) -Oh my God.\n",
            "That's just me and my magic, magic in me, me!\n",
            "Every time I pull out my wallet, every time you close my eyes...\n",
            "The way we dance, when we're out dancing, are we dancing?\n",
            "The more we do what we love, be with us, live the music, dance and dance for us... You know we just get along, stay together, get together get the hang of it!\n",
            "Be nice and don to another day, happy, happiness, love at night... (oo-oooh) Look at the beauty of your body.\n",
            "If I could, like you right here you wouldn't even say no, let me be your friend, lover, loving me here!\n",
            "Take a look at my face.\n",
            "Take your breath away from my tears.\n",
            "This makes me go for what?\n",
            "Uh oh-uh, uh oh I think my heart can handle this pain, Oh (huh) Here's my favorite bit of me (I'm a star) So here I am, here my dream is, is it for the love of my soul?\n",
            "So baby baby take me now baby and take this love away, give me this moment, come now!\n",
            "[Chorus] [Repeat (Chuckles] x4] - [Timbaland] I was out of time.\n",
            "[Intro] (And the beat] Oh-ah-aha-aa-aah-h-ee-eeeee-aaaaaa) [K-K] What is that?\n",
            "What's that?, what is?\n",
            "Who's the answer?\n",
            "Where is the power?\n",
            "Whose power, who's it?\n",
            "And so do I, 'cause you've done me wrong before I met you?\n",
            "Nowhere in life I'd even try again?\n",
            "[Me and Me] The same old rules for who I really am I keep on loving you.\n",
            "Momma, mo mommie, ma mammy, daddy, motherfucking, god damn it baby Mmmmmmmm-mm-mmmmmmmmm-mmmmmm mmmmmmmm\n",
            "\n",
            "-------------------------------------------------------  Generated song 9 --------------------------------------------------------------------------\n",
            "I love deep learning and you don't know me like that No, I don’t know you like this baby, baby oh oh yeah I think you'd think that you could bring me back to life, yeah baby yeah.\n",
            "Oh yeah yeah, oh, honey, in the dark, my love is not so great, it's just that I love her so much and I'm so grateful, for what you've done for me and my family so far.\n",
            "And it was all right.\n",
            "So much to me.\n",
            "My heart is beating, so full of love, all I can say, is love and friendship.\n",
            "I'll never let go of you, never letting go.\n",
            "Now I swear to God that love will never end (love will) and that we can never ever leave the house.\n",
            "That's the meaning of Jesus Christ and the Lord's grace.\n",
            "Jesus, the Savior, loves you and loves us all.\n",
            "All of these things to you.\n",
            "You can, by chance, and by invitation, ask yourself what I want you to do, what's your purpose?\n",
            "It's hard to come by when you want it, when we want to talk about your love.\n",
            "Everybody know that all your problems don' come from your mistakes.\n",
            "If it ain't, that ain‚t, no, let me tell you what” that means.\n",
            "Everything I know about you is yours, mine, yours.\n",
            "Every day, every day.\n",
            "From the ceiling down to the sky, from the sea to its roof.\n",
            "It is the way that's our daily rhythm.\n",
            "We are the only ones that can understand the rhythm, where the sun shines.\n",
            "The only one that understands the music.\n",
            "(Come on, come on) The one in which I could find my way back.\n",
            "\"The one\" is a word I have been trying to use for so long.\n",
            "But I couldn't figure out what to say to my father and his mother.\n",
            "They both shared an empty room.\n",
            "There was no other thing to keep in mind, but they both got their hands full.\n",
            "This time around I wonder, do you mind?\n",
            "(Oh, yes, now, say yes) I miss you a lot, miss me a ton, to be honest.\n",
            "Did I ever take you out for love?\n",
            "When did I do?\n",
            "And when did you get there?\n",
            "I feel so lonely, lonely to just walk away from me?\n",
            "No matter where I live, this is just the beginning, right now.\n",
            "No one has ever seen me before.\n",
            "Just wait and see it for yourself.\n",
            "Look out the window and in your eyes, just stay tuned.\n",
            "Come on!\n",
            "I will survive.\n",
            "Well, you are my friend.\n",
            "Take it to heaven, take it on and leave it here, (I will stay) Let's go, we'll go (go) We'll be there.\n",
            "Make me happy, will we be here (we will be with you) But there's something that he cannot do if he's looking for it.\n",
            "He cannot love me if it ends with no love (yes, me) So let's get to where we go next, next.\n",
            "Yeah, wait, maybe just wait a minute to find out where that happy ending lies (yeah, tell me where it starts) Tell me what is it like when I die?\n",
            "There's nothing wrong with love; it just doesn't matter how far apart we are.\n",
            "Some people will say that they want the same thing they say.\n",
            "Sometimes it might be just another one, some of it more.\n",
            "She could just sit there and do a little bit of music while she loved you more than you can imagine, too.\n",
            "Don't hesitate, don`t hesitate.\n",
            "Be my little boy, be my small boy.\n",
            "Uh, uh, ah, hmm, aye, oye.\n",
            "Hi, Hi!\n",
            "Uh!\n",
            "Hi!\n",
            "Uh!\n",
            "Hoo!\n",
            "Here's a woman who's beautiful with a smile in her eyes (Hoo!)\n",
            "Uh - Hello, hello, Hello - How are you feeling?\n",
            "Can you hear me now?\n",
            "Do you have a good time?\n",
            "- I've been through a whole lot of pain and loneliness.\n",
            "A lot has gone wrong, one day will end the whole experience.\n",
            "- A very old woman, who loves to walk on the ledge, walking on a ledge.\n",
            "How many times did she miss her sweet love that never ends?\n",
            "She just lives by herself, alone in a black room with the wall closed.\n",
            "What am I gonna say?\n",
            "What do I say now (now?)\n",
            "It'll take me awhile, not long (!)\n",
            "I am not crazy, crazy (woo, woo) (Woo!\n",
            "Woo!\")\n",
            "Now you're gonna be in my arms all night long, if I go all alone, OK, alright, okay, ok, fine, well, then let it go OK. OK!\n",
            "OK!!!\n",
            "All I got to ask is if there is anything that she can do to make this a success or a failure.\n",
            "\n",
            "-------------------------------------------------------  Generated song 9 --------------------------------------------------------------------------\n",
            "I love deep learning, and I love it when you think you love me, love you when I'm young, I know I can handle it without you, so I could feel the light of day and the dawn.\n",
            "But you know you're always there to help me through, you really want me to be with you.\n",
            "You know that I've got to get you through the motions of love.\n",
            "We don't know when to let go of it (we don’t know) Okay, now here's what I said to you in your interview today, let's go back to the dance floor now!\n",
            "The whole thing was so perfect I couldn't say any more but I'd put it all in one hand.\n",
            "I just wanted to feel how the thing's going to turn out.\n",
            "Oh, oh, baby, did I miss you today?\n",
            "Yes, yes, sir.\n",
            "Uh, uh, no, just remember I told you that you want some love from me and you just want to see me go.\n",
            "What if you've been waiting on my phone a while now?\n",
            "You never wanted it before, never want it now, ever since, my wife, but you never thought you had it, even if I was.\n",
            "So that's when he comes in and takes you to a place that he sees is like a dream.\n",
            "Now the one that counts is in my mind I want you back, back again now in this world where I be.\n",
            "That's my prayer, that this time, this one is mine.\n",
            "Yeah.\n",
            "Everybody knows I am the greatest, there's no more I still be here.\n",
            "Every time I step out of my seat, everything is going fine, every time my hair is dry and my toes are turning yellow.\n",
            "This moment when we see each other again, is a wonderful thing.\n",
            "[Chorus] (Verse 2: Love, Love) [Verb] [Repeat: Repeat 2] This is your way of living, as much as I need you for me To be close to me when it comes to love and love alone is always a beautiful way to live, to make a sound.\n",
            "(Repeat 2) I got my man in a car with a driver with two different cars with both wheels, each with different pedals, since the first time around it's only good for a couple people to hit you with the left hand [Fade 2:] [Whiskey] You can't tell it won't work for you (Love is the only thing that matters) (We are the last people alive) If I had to take you there would be no problem.\n",
            "There's nothing to fear, nothing else to think about.\n",
            "When I think of you I must confess to being so pretty.\n",
            "Is it that we can only talk so much about each others feelings?\n",
            "I, for one, tried to say that it was all about love, (Oh, Oh) and this is all true.\n",
            "Do you have a story for us that is not true?\n",
            "No, it is.\n",
            "No.\n",
            "It's just me; it be true, be you now [CHORUS: x2] I heard you say I'll love to hear you all day long, all night long.\n",
            "The light, the wind, have the thunderclouds.\n",
            "Come on, come on now; come, bring on today.\n",
            "Have you seen your face?\n",
            "[Cheers, applause] Love is contagious, contagious.\n",
            "And I have no choice but to fight for it.\n",
            "She just told me the old things she loved, she didn't care where she went.\n",
            "Thank God, bless you God that she got me back here [Laugh] But that just ain't enough, please don' believe me [Rolling Stone] My love is so strong.\n",
            "If you wouldnt trust me now I ain“t not sure what to do I” would go, why would you do?\n",
            "But I never would have guessed.\n",
            "All the things that do me no good no bad no no [Loose Verse 2 (Delirious Verse 3) No one I ever had my heart to tell you no one you can really know about [Line 2 x 3] Every word you give me or give you is true; every day I say something that nobody knows about, from anybody else, what not?\n",
            "(Chirused Verse 4) Verse 5 [2 x 5] Ah, ah, aw-ah-aha, with my hand behind my back [Hook 3 x 6] Some people seem to believe that the truth is something in heaven.\n",
            "A woman is afraid of a man (A woman with her body behind her back) Who's the man, who's that man?\n",
            "That one little boy?\n",
            "If this was a private affair, if this wasn't a public affair.\n",
            "God is never perfect or perfect, God must be perfect and to go through it a little bit quicker than a human being.\n",
            "Let's dance around the table, dance in the back room\n",
            "\n",
            "-------------------------------------------------------  Generated song 9 --------------------------------------------------------------------------\n",
            "I love deep learning, deep school lessons, and deep love as a kid, man, I'm ready for it.\n",
            "Oh, oh, yeah.\n",
            "So why don't we go to church for a year?\n",
            "I think I'll see you there.\n",
            "It's just a matter of time before the sun comes up, if you ever look at your hair, it's gone in the air and on the ground, but it just is a feeling.\n",
            "And I can't even imagine what you'll do for me without you.\n",
            "I just can’t remember the last time, just another day of love and reflection.\n",
            "My heart is broken, my heart hurts, baby, still I know, maybe I”m so broken and so hollow I cannot remember when I was a child.\n",
            "But what I see is, what's the meaning of this one?\n",
            "We are, our children are our own children (we are in love) (We are together) I love you, (oh oh oh) All day I wanna see these niggas get down, back up again?\n",
            "(uh-uh, ah-eh, uh-ah) We're going to make it happen, we're gonna make the world better, so I won't be, don‡t cry, no cry-no cry no, tears, for you (woo!)\n",
            "I want to cry for your love, you're not happy, in my mind, cause I am so young, young.\n",
            "(I am) Oh baby I will not be alone, or alone.\n",
            "All I do is take my time and find happiness, to the day.\n",
            "Now, all I need is you to let me go.\n",
            "Then, here comes the big time that you are coming to me.\n",
            "No matter what it might be.\n",
            "When you go, everything is happening in a very beautiful way.\n",
            "You know that it won‚t be easy, right?\n",
            "You knew that when you were growing up it was always so hard to find joy without it, love.\n",
            "The only thing that matters is how you look it“is how I look,․ oh-oh-how I smile, how it feels when someone else doesn t smile at me?\n",
            "Oh-ooh, that―s when the light comes, huh?\n",
            "So, go ahead and go with it!\n",
            "I did get ahold of that heart.\n",
            "This is me and my family, the children of God, God†s children!\n",
            "This, this is my life.\n",
            "We can, can make this.\n",
            "If it is for heaven, then I, who do you think you need?\n",
            "My baby's body is just like me, babe.\n",
            "Please donít give up on it (donínt give it) so now I get my feet wet!\n",
            "(whooo!)\n",
            "Well, now she‭s down the road and she's still out there (hoo-whoo) baby oh baby (Ooh!)\n",
            "baby no matter who you really are!\n",
            "Well I went to bed and let you live for the rest of my days!\n",
            "And then the rain began to fall, water began pouring down in me (water) And the lights shone, too, from a distance.\n",
            "Well now the clouds have fallen, well now they‖re fading.\n",
            "Remember that I said I wanted to love her, once more, when she was so small and small?\n",
            "She was tall and clean and well-rounded.\n",
            "She had a nice face and a good voice.\n",
            "For you baby come to visit me baby!\n",
            "Come, come come, stop, take me!\n",
            "All you gonna need are hands on your shoulders and knees and hands to shake me up (shake me-up, shake-down, yes!)\n",
            "(Mama, mama!)\n",
            "So come on, bring on my mammy, say, do me something, hey-ho!\n",
            "You're a must have man in this room, honey, is your man?\n",
            "When she go I promise you that, darling, she will take you home.\n",
            "Baby, boy, let's go now.\n",
            "There‍s a minute while I turn in your eyes, look you in that eye.\n",
            "He•s on his way home, he‬s right next door.—I‪m not so afraid, because I wish you good luck, good fortune, hell yeah, ok. Maybe it wasn't right for her to do this to her or her son, “I don ’m worried about that anymore‘cause I don¬t mind all that money, money and fame, be my hope, make me a better man!‒ And now you know she looks pretty, eh?\n",
            "Now I got your face, your body, yours and yours, mine and mine.\n",
            "Me and me I gonna be on a mission, where you coming from?\n",
            "There's gonna come a time when life will be more beautiful, more fun and easier than I thought it would be\n",
            "\n"
          ]
        }
      ]
    }
  ]
}